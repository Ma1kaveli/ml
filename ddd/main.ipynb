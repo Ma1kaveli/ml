{
 "cells": [
  {
   "cell_type": "code",
   "execution_count": 1,
   "metadata": {},
   "outputs": [
    {
     "name": "stdout",
     "output_type": "stream",
     "text": [
      "^C\n"
     ]
    }
   ],
   "source": [
    "!conda install -c conda-forge gdal"
   ]
  },
  {
   "cell_type": "code",
   "execution_count": null,
   "metadata": {},
   "outputs": [],
   "source": [
    "import numpy as np\n",
    "\n",
    "from pyoints import (\n",
    "    storage,\n",
    "    Extent,\n",
    "    transformation,\n",
    "    filters,\n",
    "    registration,\n",
    "    normals,\n",
    ")"
   ]
  },
  {
   "cell_type": "code",
   "execution_count": null,
   "metadata": {},
   "outputs": [],
   "source": [
    "from mpl_toolkits import mplot3d\n",
    "import matplotlib.pyplot as plt\n",
    "from matplotlib import animation\n",
    "from IPython.display import HTML\n",
    "\n",
    "%matplotlib inline"
   ]
  },
  {
   "cell_type": "code",
   "execution_count": null,
   "metadata": {},
   "outputs": [],
   "source": [
    "A = storage.loadPly('drill_1.6mm_0_cyb.ply')\n",
    "print(A.shape)\n",
    "print(A.dtype.descr)"
   ]
  },
  {
   "cell_type": "code",
   "execution_count": null,
   "metadata": {},
   "outputs": [],
   "source": [
    "B = storage.loadPly('drill_1.6mm_60_cyb.ply')\n",
    "print(B.shape)\n",
    "print(B.dtype.descr)"
   ]
  },
  {
   "cell_type": "code",
   "execution_count": null,
   "metadata": {},
   "outputs": [],
   "source": [
    "C = storage.loadPly('drill_1.6mm_120_cyb.ply')\n",
    "print(C.shape)\n",
    "print(C.dtype.descr)"
   ]
  },
  {
   "cell_type": "code",
   "execution_count": null,
   "metadata": {},
   "outputs": [],
   "source": [
    "r = 0.004\n",
    "A = A[list(filters.ball(A.indexKD(), r))]\n",
    "B = B[list(filters.ball(B.indexKD(), r))]\n",
    "C = C[list(filters.ball(C.indexKD(), r))]"
   ]
  },
  {
   "cell_type": "code",
   "execution_count": null,
   "metadata": {},
   "outputs": [],
   "source": [
    "axes_lims = Extent([\n",
    "    A.extent().center - 0.5 * A.extent().ranges.max(),\n",
    "    A.extent().center + 0.5 * A.extent().ranges.max()\n",
    "])\n",
    "colors = {'A': 'green', 'B': 'blue', 'C': 'red'}"
   ]
  },
  {
   "cell_type": "code",
   "execution_count": null,
   "metadata": {},
   "outputs": [],
   "source": [
    "\n",
    "fig = plt.figure(figsize=(15, 15))\n",
    "ax = plt.axes(projection='3d')\n",
    "ax.set_xlim(axes_lims[0], axes_lims[3])\n",
    "ax.set_ylim(axes_lims[1], axes_lims[4])\n",
    "ax.set_zlim(axes_lims[2], axes_lims[5])\n",
    "ax.set_xlabel('X (m)')\n",
    "ax.set_ylabel('Y (m)')\n",
    "ax.set_zlabel('Z (m)')\n",
    "\n",
    "ax.scatter(*A.coords.T, color=colors['A'])\n",
    "ax.scatter(*B.coords.T, color=colors['B'])\n",
    "ax.scatter(*C.coords.T, color=colors['C'])\n",
    "plt.show()"
   ]
  },
  {
   "cell_type": "code",
   "execution_count": null,
   "metadata": {},
   "outputs": [],
   "source": [
    "T_A = transformation.r_matrix([90*np.pi/180, 0, 0])\n",
    "A.transform(T_A)\n",
    "T_B = transformation.r_matrix([86*np.pi/180, 0, 45*np.pi/180])\n",
    "B.transform(T_B)\n",
    "T_C = transformation.r_matrix([95*np.pi/180, 0, 90*np.pi/180])\n",
    "C.transform(T_C)\n"
   ]
  },
  {
   "cell_type": "code",
   "execution_count": null,
   "metadata": {},
   "outputs": [],
   "source": [
    "axes_lims = Extent([\n",
    "    A.extent().center - 0.5 * A.extent().ranges.max(),\n",
    "    A.extent().center + 0.5 * A.extent().ranges.max()\n",
    "])"
   ]
  },
  {
   "cell_type": "code",
   "execution_count": null,
   "metadata": {},
   "outputs": [],
   "source": [
    "\n",
    "fig = plt.figure(figsize=(15, 15))\n",
    "ax = plt.axes(projection='3d')\n",
    "ax.set_xlim(axes_lims[0], axes_lims[3])\n",
    "ax.set_ylim(axes_lims[1], axes_lims[4])\n",
    "ax.set_zlim(axes_lims[2], axes_lims[5])\n",
    "ax.set_xlabel('X')\n",
    "ax.set_ylabel('Y')\n",
    "ax.set_zlabel('Z')\n",
    "\n",
    "ax.scatter(*A.coords.T, color=colors['A'], label='A')\n",
    "ax.scatter(*B.coords.T, color=colors['B'], label='B')\n",
    "ax.scatter(*C.coords.T, color=colors['C'], label='C')\n",
    "ax.legend()\n",
    "plt.show()"
   ]
  },
  {
   "cell_type": "code",
   "execution_count": null,
   "metadata": {},
   "outputs": [],
   "source": [
    "coords_dict = {\n",
    "    'A': A.coords,\n",
    "    'B': B.coords,\n",
    "    'C': C.coords\n",
    "}"
   ]
  },
  {
   "cell_type": "code",
   "execution_count": null,
   "metadata": {},
   "outputs": [],
   "source": [
    "d_th = 0.04\n",
    "radii = [d_th, d_th, d_th]\n",
    "icp = registration.ICP(\n",
    "    radii,\n",
    "    max_iter=60,\n",
    "    max_change_ratio=0.000001,\n",
    "    k=1\n",
    ")"
   ]
  },
  {
   "cell_type": "code",
   "execution_count": null,
   "metadata": {},
   "outputs": [],
   "source": [
    "T_dict, pairs_dict, report = icp(coords_dict)"
   ]
  },
  {
   "cell_type": "code",
   "execution_count": null,
   "metadata": {},
   "outputs": [],
   "source": [
    "fig = plt.figure(figsize=(15, 15))\n",
    "ax = plt.axes(projection='3d')\n",
    "ax.set_xlim(axes_lims[0], axes_lims[3])\n",
    "ax.set_ylim(axes_lims[1], axes_lims[4])\n",
    "ax.set_zlim(axes_lims[2], axes_lims[5])\n",
    "ax.set_xlabel('X')\n",
    "ax.set_ylabel('Y')\n",
    "ax.set_zlabel('Z')\n",
    "\n",
    "for key in coords_dict:\n",
    "    coords = transformation.transform(coords_dict[key], T_dict[key])\n",
    "    ax.scatter(*coords.T, color=colors[key], label=key)\n",
    "ax.legend()\n",
    "plt.show()"
   ]
  },
  {
   "cell_type": "code",
   "execution_count": null,
   "metadata": {},
   "outputs": [],
   "source": [
    "fig = plt.figure(figsize=(15, 8))\n",
    "plt.xlim(0, len(report['RMSE']) + 1)\n",
    "plt.xlabel('Iteration')\n",
    "plt.ylabel('RMSE')\n",
    "\n",
    "plt.bar(np.arange(len(report['RMSE']))+1, report['RMSE'], color='gray')\n",
    "plt.show()"
   ]
  },
  {
   "cell_type": "code",
   "execution_count": null,
   "metadata": {},
   "outputs": [],
   "source": [
    "normals_dict = {\n",
    "    key: normals.fit_normals(coords_dict[key], k=5, preferred=[0, -1, 0])\n",
    "    for key in coords_dict\n",
    "}"
   ]
  },
  {
   "cell_type": "code",
   "execution_count": null,
   "metadata": {},
   "outputs": [],
   "source": [
    "fig = plt.figure(figsize=(15, 15))\n",
    "ax = plt.axes(projection='3d')\n",
    "ax.set_xlim(axes_lims[0], axes_lims[3])\n",
    "ax.set_ylim(axes_lims[1], axes_lims[4])\n",
    "ax.set_zlim(axes_lims[2], axes_lims[5])\n",
    "ax.set_xlabel('X')\n",
    "ax.set_ylabel('Y')\n",
    "ax.set_zlabel('Z')\n",
    "\n",
    "ax.scatter(*A.coords.T, c=normals_dict['A'][:, 2], cmap='coolwarm')\n",
    "for coord, normal in zip(coords_dict['A'], normals_dict['A']):\n",
    "    ax.plot(*np.vstack([coord, coord + normal*0.01]).T, color='black')\n",
    "plt.show()"
   ]
  },
  {
   "cell_type": "code",
   "execution_count": null,
   "metadata": {},
   "outputs": [],
   "source": [
    "n_th = np.sin(15 * np.pi / 180)\n",
    "radii = [d_th, d_th, d_th, n_th, n_th, n_th]\n",
    "nicp = registration.ICP(\n",
    "    radii,\n",
    "    max_iter=60,\n",
    "    max_change_ratio=0.000001,\n",
    "    update_normals=True,\n",
    "    k=1\n",
    ")"
   ]
  },
  {
   "cell_type": "code",
   "execution_count": null,
   "metadata": {},
   "outputs": [],
   "source": [
    "T_dict, pairs_dict, report = nicp(coords_dict, normals_dict)"
   ]
  },
  {
   "cell_type": "code",
   "execution_count": null,
   "metadata": {},
   "outputs": [],
   "source": [
    "fig = plt.figure(figsize=(15, 15))\n",
    "ax = plt.axes(projection='3d')\n",
    "ax.set_xlim(axes_lims[0], axes_lims[3])\n",
    "ax.set_ylim(axes_lims[1], axes_lims[4])\n",
    "ax.set_zlim(axes_lims[2], axes_lims[5])\n",
    "ax.set_xlabel('X')\n",
    "ax.set_ylabel('Y')\n",
    "ax.set_zlabel('Z')\n",
    "\n",
    "for key in coords_dict:\n",
    "    coords = transformation.transform(coords_dict[key], T_dict[key])\n",
    "    ax.scatter(*coords.T, color=colors[key], label=key)\n",
    "ax.legend()\n",
    "plt.show()"
   ]
  },
  {
   "cell_type": "code",
   "execution_count": null,
   "metadata": {},
   "outputs": [],
   "source": [
    "fig = plt.figure(figsize=(15, 8))\n",
    "plt.xlim(0, len(report['RMSE']) + 1)\n",
    "plt.xlabel('Iteration')\n",
    "plt.ylabel('RMSE')\n",
    "\n",
    "plt.bar(np.arange(len(report['RMSE']))+1, report['RMSE'], color='gray')\n",
    "plt.show()"
   ]
  },
  {
   "cell_type": "code",
   "execution_count": null,
   "metadata": {},
   "outputs": [],
   "source": [
    "fig = plt.figure(figsize=(8, 8))\n",
    "ax = plt.axes(projection='3d')\n",
    "ax.set_xlim(axes_lims[0], axes_lims[3])\n",
    "ax.set_ylim(axes_lims[1], axes_lims[4])\n",
    "ax.set_zlim(axes_lims[2], axes_lims[5])\n",
    "fig.tight_layout()\n",
    "\n",
    "# initializing plot\n",
    "artists={\n",
    "    key: ax.plot([],[],[], '.', color=colors[key], label=key)[0]\n",
    "    for key in coords_dict\n",
    "}\n",
    "ax.legend()\n",
    "\n",
    "# collecting the roto-translation matrices\n",
    "T_iter = [{key: np.eye(4) for key in coords_dict}] + report['T']\n",
    "\n",
    "def animate(i):\n",
    "    # updates the frame\n",
    "    ax.set_xlabel('Iteration %i' % i)\n",
    "    for key in coords_dict:\n",
    "            coords = transformation.transform(coords_dict[key], T_iter[i][key])\n",
    "            artists[key].set_data(coords[:, 0], coords[:, 1])\n",
    "            artists[key].set_3d_properties(coords[:, 2])\n",
    "    return artists.values()\n",
    "\n",
    "# creates the animation\n",
    "anim = animation.FuncAnimation(fig, animate, frames=range(len(T_iter)), interval=250, blit=True)\n",
    "\n",
    "# save as GIF\n",
    "anim.save('nicp.gif', writer=animation.ImageMagickWriter())\n",
    "plt.close()\n",
    "# display as HTML (online version only)\n",
    "HTML(anim.to_jshtml())"
   ]
  }
 ],
 "metadata": {
  "kernelspec": {
   "display_name": "Python 3",
   "language": "python",
   "name": "python3"
  },
  "language_info": {
   "codemirror_mode": {
    "name": "ipython",
    "version": 3
   },
   "file_extension": ".py",
   "mimetype": "text/x-python",
   "name": "python",
   "nbconvert_exporter": "python",
   "pygments_lexer": "ipython3",
   "version": "3.9.13"
  },
  "orig_nbformat": 4
 },
 "nbformat": 4,
 "nbformat_minor": 2
}
